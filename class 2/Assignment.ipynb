{
 "cells": [
  {
   "cell_type": "markdown",
   "metadata": {},
   "source": [
    "Task - 1"
   ]
  },
  {
   "cell_type": "code",
   "execution_count": 3,
   "metadata": {},
   "outputs": [
    {
     "name": "stdout",
     "output_type": "stream",
     "text": [
      "First Name (Uppercase): HAMMAD\n",
      "Last Name (Lowercase): ali\n",
      "Total number of letters in your name: 9\n"
     ]
    }
   ],
   "source": [
    "# Get user input for first and last name\n",
    "first_name = input(\"Enter your first name: \").upper()\n",
    "last_name = input(\"Enter your last name: \").lower()\n",
    "\n",
    "# Calculate the total number of letters\n",
    "total_letters = len(first_name) + len(last_name)\n",
    "\n",
    "# Display results\n",
    "print(f\"First Name (Uppercase): {first_name}\")\n",
    "print(f\"Last Name (Lowercase): {last_name}\")\n",
    "print(f\"Total number of letters in your name: {total_letters}\")\n"
   ]
  },
  {
   "cell_type": "code",
   "execution_count": 5,
   "metadata": {},
   "outputs": [
    {
     "name": "stdout",
     "output_type": "stream",
     "text": [
      "Choose a shape to calculate its area:\n",
      "1. Circle\n",
      "2. Rectangle\n",
      "3. Square\n",
      "4. Triangle\n",
      "The area of the circle is: 28.27\n"
     ]
    }
   ],
   "source": [
    "print(\"Choose a shape to calculate its area:\")\n",
    "print(\"1. Circle\")\n",
    "print(\"2. Rectangle\")\n",
    "print(\"3. Square\")\n",
    "print(\"4. Triangle\")\n",
    "\n",
    "shape = input(\"Enter the shape name: \").strip().lower()\n",
    "\n",
    "if shape == \"circle\":\n",
    "    radius = float(input(\"Enter the radius of the circle: \"))\n",
    "    area = 3.14159 * (radius ** 2)\n",
    "    print(f\"The area of the circle is: {area:.2f}\")\n",
    "\n",
    "elif shape == \"rectangle\":\n",
    "    length = float(input(\"Enter the length of the rectangle: \"))\n",
    "    width = float(input(\"Enter the width of the rectangle: \"))\n",
    "    area = length * width\n",
    "    print(f\"The area of the rectangle is: {area:.2f}\")\n",
    "\n",
    "elif shape == \"square\":\n",
    "    side = float(input(\"Enter the side length of the square: \"))\n",
    "    area = side ** 2\n",
    "    print(f\"The area of the square is: {area:.2f}\")\n",
    "\n",
    "elif shape == \"triangle\":\n",
    "    base = float(input(\"Enter the base length of the triangle: \"))\n",
    "    height = float(input(\"Enter the height of the triangle: \"))\n",
    "    area = 0.5 * base * height\n",
    "    print(f\"The area of the triangle is: {area:.2f}\")\n",
    "\n",
    "else:\n",
    "    print(\"Invalid shape selected. Please choose from the list.\")\n"
   ]
  },
  {
   "cell_type": "code",
   "execution_count": 6,
   "metadata": {},
   "outputs": [
    {
     "name": "stdout",
     "output_type": "stream",
     "text": [
      "Selected Color: yellow\n",
      "Generated Password: wolley\n"
     ]
    }
   ],
   "source": [
    "import random\n",
    "\n",
    "# List of available colors\n",
    "colors = [\"red\", \"blue\", \"green\", \"yellow\", \"orange\", \"purple\"]\n",
    "\n",
    "# Select a random color and generate a password by reversing it\n",
    "selected_color = random.choice(colors)\n",
    "password = selected_color[::-1]\n",
    "\n",
    "# Display results\n",
    "print(f\"Selected Color: {selected_color}\")\n",
    "print(f\"Generated Password: {password}\")\n"
   ]
  },
  {
   "cell_type": "code",
   "execution_count": null,
   "metadata": {},
   "outputs": [],
   "source": []
  }
 ],
 "metadata": {
  "kernelspec": {
   "display_name": "Python 3",
   "language": "python",
   "name": "python3"
  },
  "language_info": {
   "codemirror_mode": {
    "name": "ipython",
    "version": 3
   },
   "file_extension": ".py",
   "mimetype": "text/x-python",
   "name": "python",
   "nbconvert_exporter": "python",
   "pygments_lexer": "ipython3",
   "version": "3.11.1"
  }
 },
 "nbformat": 4,
 "nbformat_minor": 2
}
