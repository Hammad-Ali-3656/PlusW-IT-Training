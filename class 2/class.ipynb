{
 "cells": [
  {
   "cell_type": "markdown",
   "metadata": {},
   "source": [
    "## Class Task"
   ]
  },
  {
   "cell_type": "code",
   "execution_count": 1,
   "metadata": {},
   "outputs": [
    {
     "name": "stdout",
     "output_type": "stream",
     "text": [
      "This is my second class of Python language\n"
     ]
    }
   ],
   "source": [
    "#indentation\n",
    "if True:\n",
    "  print(\"This is my second class of Python language\")\n",
    "\n",
    "#comments\n",
    "# if True: clt + /\n",
    "# print(\"This is my second class of Python language\")"
   ]
  },
  {
   "cell_type": "code",
   "execution_count": 5,
   "metadata": {},
   "outputs": [
    {
     "name": "stdout",
     "output_type": "stream",
     "text": [
      "My name is Hammad\n",
      "My age is 22\n",
      "3.14159\n"
     ]
    }
   ],
   "source": [
    "# Variables and Constants\n",
    "name = \"Hammad\"  # Both single and double quotes work for strings\n",
    "age = 22  \n",
    "\n",
    "PI = 3.14159  # Constant\n",
    "\n",
    "print(\"My name is\", name)  \n",
    "print(\"My age is\", age)  \n",
    "\n",
    "print(PI)\n"
   ]
  },
  {
   "cell_type": "code",
   "execution_count": 4,
   "metadata": {},
   "outputs": [
    {
     "name": "stdout",
     "output_type": "stream",
     "text": [
      "My name is Hammad Ali\n",
      "Data type of input: <class 'str'>\n"
     ]
    }
   ],
   "source": [
    "# Input and Output Functions\n",
    "user_input_name = input(\"Enter your name: \")  # Accepting user input\n",
    "print(\"My name is\", user_input_name)  # Displaying output\n",
    "\n",
    "print(\"Data type of input:\", type(user_input_name))"
   ]
  },
  {
   "cell_type": "code",
   "execution_count": 6,
   "metadata": {},
   "outputs": [
    {
     "name": "stdout",
     "output_type": "stream",
     "text": [
      "Real part: 5.0\n",
      "Imaginary part: 6.0\n"
     ]
    }
   ],
   "source": [
    "# Primitive Data Types\n",
    "integer_num = 11\n",
    "float_num = 11.11\n",
    "complex_num = 5 + 6j  # Complex number\n",
    "\n",
    "print(\"Real part:\", complex_num.real)\n",
    "print(\"Imaginary part:\", complex_num.imag)"
   ]
  },
  {
   "cell_type": "code",
   "execution_count": 7,
   "metadata": {},
   "outputs": [
    {
     "name": "stdout",
     "output_type": "stream",
     "text": [
      "First letter: T\n",
      "Specific character: n\n",
      "Python Language\n",
      "PythonPythonPython\n",
      "Substring (first 4 characters): This\n",
      "Substring (first 23 characters): This is my second Pytho\n",
      "Lowercase: this is my second python class\n",
      "Uppercase: THIS IS MY SECOND PYTHON CLASS\n",
      "Replaced text: This is my second C++ class\n"
     ]
    }
   ],
   "source": [
    "# String Operations\n",
    "text = \"This is my second Python class\"\n",
    "print(\"First letter:\", text[0])\n",
    "print(\"Specific character:\", text[-15])\n",
    "\n",
    "concatenated_text = \"Python \" + \"Language\"\n",
    "print(concatenated_text)\n",
    "\n",
    "repeated_text = \"Python\" * 3\n",
    "print(repeated_text)\n",
    "\n",
    "print(\"Substring (first 4 characters):\", text[0:4])\n",
    "print(\"Substring (first 23 characters):\", text[0:23])\n",
    "\n",
    "print(\"Lowercase:\", text.lower())\n",
    "print(\"Uppercase:\", text.upper())\n",
    "\n",
    "print(\"Replaced text:\", text.replace(\"Python\", \"C++\"))"
   ]
  },
  {
   "cell_type": "markdown",
   "metadata": {},
   "source": [
    "# Collection Data Types"
   ]
  },
  {
   "cell_type": "code",
   "execution_count": 9,
   "metadata": {},
   "outputs": [
    {
     "name": "stdout",
     "output_type": "stream",
     "text": [
      "Updated list: [1, 2, 3, 4, 5, 6]\n",
      "List slicing (first 3 elements): [1, 2, 3]\n"
     ]
    }
   ],
   "source": [
    "# List Example\n",
    "numbers_list = [1, 2, 3, 4, 5]\n",
    "numbers_list.append(6)  # Adding an element\n",
    "\n",
    "print(\"Updated list:\", numbers_list)\n",
    "print(\"List slicing (first 3 elements):\", numbers_list[:3])"
   ]
  },
  {
   "cell_type": "code",
   "execution_count": 10,
   "metadata": {},
   "outputs": [
    {
     "name": "stdout",
     "output_type": "stream",
     "text": [
      "Tuple values: (1, 2, 3, 4, 5)\n"
     ]
    }
   ],
   "source": [
    "# Tuple Example\n",
    "numbers_tuple = (1, 2, 3, 4, 5)\n",
    "print(\"Tuple values:\", numbers_tuple)"
   ]
  },
  {
   "cell_type": "code",
   "execution_count": 11,
   "metadata": {},
   "outputs": [
    {
     "name": "stdout",
     "output_type": "stream",
     "text": [
      "Updated set: {1, 2, 3, 4, 5}\n"
     ]
    }
   ],
   "source": [
    "# Set Example\n",
    "numbers_set = {1, 2, 3, 4}\n",
    "numbers_set.add(5)  # Adding an element to the set\n",
    "\n",
    "print(\"Updated set:\", numbers_set)\n"
   ]
  },
  {
   "cell_type": "code",
   "execution_count": 12,
   "metadata": {},
   "outputs": [
    {
     "name": "stdout",
     "output_type": "stream",
     "text": [
      "Updated dictionary: {'name': 'Oof'}\n",
      "Expanded dictionary: {'name': 'Oof', 'age': 26}\n"
     ]
    }
   ],
   "source": [
    "# Dictionary Example\n",
    "student_info = {\"name\": \"Eashah\"}  # Dictionary with key-value pair\n",
    "\n",
    "student_info['name'] = \"Oof\"  # Updating value\n",
    "print(\"Updated dictionary:\", student_info)\n",
    "\n",
    "student_info['age'] = 26  # Adding a new key-value pair\n",
    "print(\"Expanded dictionary:\", student_info)"
   ]
  },
  {
   "cell_type": "code",
   "execution_count": 13,
   "metadata": {},
   "outputs": [
    {
     "name": "stdout",
     "output_type": "stream",
     "text": [
      "Result after implicit conversion: 20.009999999999998\n",
      "Data type of result: <class 'float'>\n"
     ]
    }
   ],
   "source": [
    "# Implicit Type Conversion\n",
    "num_a = 10\n",
    "num_b = 10.01\n",
    "\n",
    "sum_result = num_a + num_b\n",
    "\n",
    "print(\"Result after implicit conversion:\", sum_result)\n",
    "print(\"Data type of result:\", type(sum_result))\n"
   ]
  },
  {
   "cell_type": "code",
   "execution_count": 14,
   "metadata": {},
   "outputs": [
    {
     "name": "stdout",
     "output_type": "stream",
     "text": [
      "Data type after conversion: <class 'int'>\n",
      "Sum after explicit conversion: 32\n"
     ]
    }
   ],
   "source": [
    "# Explicit Type Conversion\n",
    "str_age = \"21\"\n",
    "num_c = 11\n",
    "\n",
    "str_age = int(str_age)  # Converting string to integer\n",
    "\n",
    "print(\"Data type after conversion:\", type(str_age))\n",
    "\n",
    "sum_explicit = str_age + num_c  # Performing arithmetic operation\n",
    "print(\"Sum after explicit conversion:\", sum_explicit)"
   ]
  },
  {
   "cell_type": "code",
   "execution_count": 16,
   "metadata": {},
   "outputs": [
    {
     "name": "stdout",
     "output_type": "stream",
     "text": [
      "Addition: 26\n",
      "Subtraction: 4\n",
      "Multiplication: 165\n",
      "Division: 1.3636363636363635\n",
      "Floor Division: 1\n",
      "Modulus: 4\n",
      "Exponentiation: 8649755859375\n"
     ]
    }
   ],
   "source": [
    "# Arithmetic Operators\n",
    "num_x = 15\n",
    "num_y = 11\n",
    "\n",
    "print(\"Addition:\", num_x + num_y)\n",
    "print(\"Subtraction:\", num_x - num_y)\n",
    "print(\"Multiplication:\", num_x * num_y)\n",
    "print(\"Division:\", num_x / num_y)\n",
    "print(\"Floor Division:\", num_x // num_y)\n",
    "print(\"Modulus:\", num_x % num_y)\n",
    "print(\"Exponentiation:\", num_x ** num_y)  # num_x raised to power num_y"
   ]
  },
  {
   "cell_type": "code",
   "execution_count": 17,
   "metadata": {},
   "outputs": [
    {
     "name": "stdout",
     "output_type": "stream",
     "text": [
      "Equal: False\n",
      "Not Equal: True\n",
      "Greater than: True\n",
      "Less than: False\n"
     ]
    }
   ],
   "source": [
    "# Comparison Operators\n",
    "num_m = 11\n",
    "num_n = 5\n",
    "\n",
    "print(\"Equal:\", num_m == num_n)\n",
    "print(\"Not Equal:\", num_m != num_n)\n",
    "print(\"Greater than:\", num_m > num_n)\n",
    "print(\"Less than:\", num_m < num_n)"
   ]
  },
  {
   "cell_type": "code",
   "execution_count": 18,
   "metadata": {},
   "outputs": [
    {
     "name": "stdout",
     "output_type": "stream",
     "text": [
      "AND Operation: False\n",
      "OR Operation: True\n",
      "NOT Operation: False\n"
     ]
    }
   ],
   "source": [
    "# Logical Operators\n",
    "val_p = True\n",
    "val_q = False\n",
    "\n",
    "print(\"AND Operation:\", val_p and val_q)\n",
    "print(\"OR Operation:\", val_p or val_q)\n",
    "print(\"NOT Operation:\", not val_p)"
   ]
  },
  {
   "cell_type": "code",
   "execution_count": 20,
   "metadata": {},
   "outputs": [
    {
     "name": "stdout",
     "output_type": "stream",
     "text": [
      "Final value after assignment operations: 10.0\n"
     ]
    }
   ],
   "source": [
    "# Assignment Operators\n",
    "val_a = 10\n",
    "val_a += 5  # val_a = val_a + 5\n",
    "val_a -= 5  # val_a = val_a - 5\n",
    "val_a *= 5  # val_a = val_a * 5\n",
    "val_a /= 5  # val_a = val_a / 5\n",
    "\n",
    "print(\"Final value after assignment operations:\", val_a)"
   ]
  },
  {
   "cell_type": "code",
   "execution_count": 21,
   "metadata": {},
   "outputs": [
    {
     "name": "stdout",
     "output_type": "stream",
     "text": [
      "Length of the word: 6\n"
     ]
    }
   ],
   "source": [
    "# String Length Function\n",
    "word = \"Python\"\n",
    "print(\"Length of the word:\", len(word))"
   ]
  },
  {
   "cell_type": "code",
   "execution_count": 23,
   "metadata": {},
   "outputs": [
    {
     "name": "stdout",
     "output_type": "stream",
     "text": [
      "Splitting string: ['Python', 'Language']\n"
     ]
    }
   ],
   "source": [
    "# Split Function\n",
    "sentence_text = \"Python:Language\"\n",
    "print(\"Splitting string:\", sentence_text.split(':'))\n"
   ]
  },
  {
   "cell_type": "code",
   "execution_count": 24,
   "metadata": {},
   "outputs": [
    {
     "name": "stdout",
     "output_type": "stream",
     "text": [
      "Random integer between 1 and 10: 8\n",
      "Random float between 0 and 1: 0.40542646807380667\n",
      "Another random integer between 1 and 10: 7\n",
      "Random choice from list: Apple\n"
     ]
    }
   ],
   "source": [
    "# Random Module Usage\n",
    "import random\n",
    "\n",
    "print(\"Random integer between 1 and 10:\", random.randint(1, 10))\n",
    "print(\"Random float between 0 and 1:\", random.random())\n",
    "print(\"Another random integer between 1 and 10:\", random.randint(1, 10))\n",
    "\n",
    "items_list = ['Apple', 'Banana']\n",
    "print(\"Random choice from list:\", random.choice(items_list))"
   ]
  },
  {
   "cell_type": "code",
   "execution_count": null,
   "metadata": {},
   "outputs": [],
   "source": []
  }
 ],
 "metadata": {
  "kernelspec": {
   "display_name": "Python 3",
   "language": "python",
   "name": "python3"
  },
  "language_info": {
   "codemirror_mode": {
    "name": "ipython",
    "version": 3
   },
   "file_extension": ".py",
   "mimetype": "text/x-python",
   "name": "python",
   "nbconvert_exporter": "python",
   "pygments_lexer": "ipython3",
   "version": "3.11.1"
  }
 },
 "nbformat": 4,
 "nbformat_minor": 2
}
