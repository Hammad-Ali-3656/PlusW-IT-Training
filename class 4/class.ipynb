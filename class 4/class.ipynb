{
  "nbformat": 4,
  "nbformat_minor": 0,
  "metadata": {
    "colab": {
      "provenance": []
    },
    "kernelspec": {
      "name": "python3",
      "display_name": "Python 3"
    },
    "language_info": {
      "name": "python"
    }
  },
  "cells": [
    {
      "cell_type": "code",
      "execution_count": 22,
      "metadata": {
        "colab": {
          "base_uri": "https://localhost:8080/"
        },
        "id": "SBUPYNA8lIj3",
        "outputId": "6d68aa5d-e443-43e3-e66c-86691900f63b"
      },
      "outputs": [
        {
          "output_type": "stream",
          "name": "stdout",
          "text": [
            "Hello! I'm learning Python.\n"
          ]
        }
      ],
      "source": [
        "# Assigning function to a variable\n",
        "def greet():\n",
        "    print(\"Hello! I'm learning Python.\")\n",
        "\n",
        "say_hello = greet  # Assigning function to another variable\n",
        "say_hello()\n"
      ]
    },
    {
      "cell_type": "code",
      "source": [
        "\n",
        "# Passing function as an argument\n",
        "def add(x, y):\n",
        "    return x + y\n",
        "\n",
        "def operate(func, a, b):\n",
        "    return func(a, b)\n",
        "\n",
        "result = operate(add, 2, 3)\n",
        "print(result)  # Output: 5"
      ],
      "metadata": {
        "colab": {
          "base_uri": "https://localhost:8080/"
        },
        "id": "-osZId6tmJrb",
        "outputId": "68117efa-185f-48f5-aa08-8e0208021914"
      },
      "execution_count": 23,
      "outputs": [
        {
          "output_type": "stream",
          "name": "stdout",
          "text": [
            "5\n"
          ]
        }
      ]
    },
    {
      "cell_type": "code",
      "source": [
        "# Returning a function from another function\n",
        "def multiplier(factor):\n",
        "    def multiply(num):\n",
        "        return num * factor\n",
        "    return multiply\n",
        "\n",
        "double = multiplier(2)  # Creating a function that doubles a number\n",
        "print(double(5))  # Output: 10"
      ],
      "metadata": {
        "colab": {
          "base_uri": "https://localhost:8080/"
        },
        "id": "Q1bie8SsmPyK",
        "outputId": "bec02603-e207-416a-f41e-122acf32e141"
      },
      "execution_count": 24,
      "outputs": [
        {
          "output_type": "stream",
          "name": "stdout",
          "text": [
            "10\n"
          ]
        }
      ]
    },
    {
      "cell_type": "code",
      "source": [
        "\n",
        "# Recursive function\n",
        "def factorial(n):\n",
        "    if n == 1:\n",
        "        return 1\n",
        "    return n * factorial(n - 1)\n",
        "\n",
        "print(factorial(5))  # Output: 120"
      ],
      "metadata": {
        "colab": {
          "base_uri": "https://localhost:8080/"
        },
        "id": "urCMow5qmSSX",
        "outputId": "b9cb1ea9-aa59-479d-bde6-771e313eb781"
      },
      "execution_count": 25,
      "outputs": [
        {
          "output_type": "stream",
          "name": "stdout",
          "text": [
            "120\n"
          ]
        }
      ]
    },
    {
      "cell_type": "code",
      "source": [
        "# Using docstrings\n",
        "def calculator(values):\n",
        "    \"\"\"This function performs calculations.\"\"\"\n",
        "    pass\n",
        "\n",
        "help(calculator)"
      ],
      "metadata": {
        "colab": {
          "base_uri": "https://localhost:8080/"
        },
        "id": "61hBBRNrmVIR",
        "outputId": "b960e42c-52d6-4f16-eaa0-501e290225b0"
      },
      "execution_count": 26,
      "outputs": [
        {
          "output_type": "stream",
          "name": "stdout",
          "text": [
            "Help on function calculator in module __main__:\n",
            "\n",
            "calculator(values)\n",
            "    This function performs calculations.\n",
            "\n"
          ]
        }
      ]
    },
    {
      "cell_type": "code",
      "source": [
        "# Local and Global Variables\n",
        "\n",
        "def add_numbers():\n",
        "    a, b = 10, 20  # Local variables\n",
        "    print(f\"Sum: {a + b}\")\n",
        "\n",
        "add_numbers()"
      ],
      "metadata": {
        "colab": {
          "base_uri": "https://localhost:8080/"
        },
        "id": "BZv0ebwlmXse",
        "outputId": "2b1f5237-d10d-4742-f4a3-3b44425eeff2"
      },
      "execution_count": 27,
      "outputs": [
        {
          "output_type": "stream",
          "name": "stdout",
          "text": [
            "Sum: 30\n"
          ]
        }
      ]
    },
    {
      "cell_type": "code",
      "source": [
        "# Global variable usage\n",
        "a, b = 10, 20\n",
        "\n",
        "def sum_numbers():\n",
        "    print(f\"Sum: {a + b}\")\n",
        "\n",
        "sum_numbers()\n"
      ],
      "metadata": {
        "colab": {
          "base_uri": "https://localhost:8080/"
        },
        "id": "0AO_2gsRmbF9",
        "outputId": "574d946e-0ed3-4e46-c3ea-6ff51adefd36"
      },
      "execution_count": 28,
      "outputs": [
        {
          "output_type": "stream",
          "name": "stdout",
          "text": [
            "Sum: 30\n"
          ]
        }
      ]
    },
    {
      "cell_type": "code",
      "source": [
        "# Modifying global variable\n",
        "a = 10\n",
        "\n",
        "def modify_global():\n",
        "    global a\n",
        "    a = 20\n",
        "    print(f\"Modified Sum: {a + b}\")\n",
        "\n",
        "modify_global()"
      ],
      "metadata": {
        "colab": {
          "base_uri": "https://localhost:8080/"
        },
        "id": "TZRE-NiwmdYD",
        "outputId": "e7a22835-8579-4ca0-e2dd-f3ae53d55c8c"
      },
      "execution_count": 29,
      "outputs": [
        {
          "output_type": "stream",
          "name": "stdout",
          "text": [
            "Modified Sum: 40\n"
          ]
        }
      ]
    },
    {
      "cell_type": "code",
      "source": [
        "# Using nonlocal variables\n",
        "def outer():\n",
        "    x = 5\n",
        "    def inner():\n",
        "        nonlocal x\n",
        "        x = 10\n",
        "    inner()\n",
        "    print(\"Updated x:\", x)\n",
        "\n",
        "outer()"
      ],
      "metadata": {
        "colab": {
          "base_uri": "https://localhost:8080/"
        },
        "id": "Zj509jmvmgLb",
        "outputId": "ed5ba85f-2ba5-4e7e-b29d-b2064c579e95"
      },
      "execution_count": 30,
      "outputs": [
        {
          "output_type": "stream",
          "name": "stdout",
          "text": [
            "Updated x: 10\n"
          ]
        }
      ]
    },
    {
      "cell_type": "code",
      "source": [
        "# NumPy Basics\n",
        "import numpy as np\n",
        "\n",
        "# Creating lists and NumPy arrays\n",
        "py_list = [1, 2, 3, 4, 5]\n",
        "numpy_array = np.array([1, 2, 3, 4, 5])\n",
        "print(type(py_list))  # Output: <class 'list'>\n",
        "print(type(numpy_array))  # Output: <class 'numpy.ndarray'>\n",
        "\n",
        "# 1D and 2D arrays\n",
        "arr_1d = np.array([1, 2, 3, 4, 5])\n",
        "print(arr_1d)\n",
        "\n",
        "arr_2d = np.array([[1, 2, 3], [4, 5, 6]])\n",
        "print(arr_2d)\n",
        "print(\"Dimensions:\", arr_2d.ndim)"
      ],
      "metadata": {
        "colab": {
          "base_uri": "https://localhost:8080/"
        },
        "id": "p8EdUWgEmik-",
        "outputId": "d933f623-1c29-4644-aee5-c9cc561bc548"
      },
      "execution_count": 31,
      "outputs": [
        {
          "output_type": "stream",
          "name": "stdout",
          "text": [
            "<class 'list'>\n",
            "<class 'numpy.ndarray'>\n",
            "[1 2 3 4 5]\n",
            "[[1 2 3]\n",
            " [4 5 6]]\n",
            "Dimensions: 2\n"
          ]
        }
      ]
    },
    {
      "cell_type": "code",
      "source": [
        "# Arrays filled with specific values\n",
        "zeros_array = np.zeros((2, 3))\n",
        "ones_array = np.ones((2, 3))\n",
        "fixed_array = np.full((2, 3), 8)\n",
        "print(zeros_array)\n",
        "print(ones_array)\n",
        "print(fixed_array)"
      ],
      "metadata": {
        "colab": {
          "base_uri": "https://localhost:8080/"
        },
        "id": "bM9juxvoml3S",
        "outputId": "f16a05c9-ba6c-41dd-a14a-51cf5c5d5631"
      },
      "execution_count": 32,
      "outputs": [
        {
          "output_type": "stream",
          "name": "stdout",
          "text": [
            "[[0. 0. 0.]\n",
            " [0. 0. 0.]]\n",
            "[[1. 1. 1.]\n",
            " [1. 1. 1.]]\n",
            "[[8 8 8]\n",
            " [8 8 8]]\n"
          ]
        }
      ]
    },
    {
      "cell_type": "code",
      "source": [
        "\n",
        "# Creating arrays with evenly spaced values\n",
        "linspace_array = np.linspace(1, 10, 5)\n",
        "print(linspace_array)"
      ],
      "metadata": {
        "colab": {
          "base_uri": "https://localhost:8080/"
        },
        "id": "nhOvR7E-mpS1",
        "outputId": "b47b3858-f6d9-4d52-bb43-889e2eef9ff5"
      },
      "execution_count": 33,
      "outputs": [
        {
          "output_type": "stream",
          "name": "stdout",
          "text": [
            "[ 1.    3.25  5.5   7.75 10.  ]\n"
          ]
        }
      ]
    },
    {
      "cell_type": "code",
      "source": [
        "# Creating arrays with a range of numbers\n",
        "range_array = np.arange(1, 10, 5)\n",
        "print(range_array)\n",
        "\n"
      ],
      "metadata": {
        "colab": {
          "base_uri": "https://localhost:8080/"
        },
        "id": "gzhB8nwWmr02",
        "outputId": "eeb05431-a383-4ab1-98d5-8ba80791ee25"
      },
      "execution_count": 34,
      "outputs": [
        {
          "output_type": "stream",
          "name": "stdout",
          "text": [
            "[1 6]\n"
          ]
        }
      ]
    },
    {
      "cell_type": "code",
      "source": [
        "# Generating random arrays\n",
        "random_array = np.random.rand(3, 3)  # Values between 0 and 1\n",
        "print(random_array)\n",
        "\n",
        "random_int_array = np.random.randint(1, 100, (3, 3))\n",
        "print(random_int_array.ndim)\n",
        "\n"
      ],
      "metadata": {
        "colab": {
          "base_uri": "https://localhost:8080/"
        },
        "id": "WV6PhscEm2fw",
        "outputId": "b754fb95-f60b-4a1a-9fc5-5c75065c2157"
      },
      "execution_count": 35,
      "outputs": [
        {
          "output_type": "stream",
          "name": "stdout",
          "text": [
            "[[0.87325895 0.52496493 0.34842923]\n",
            " [0.05192051 0.90926799 0.64674822]\n",
            " [0.97686857 0.91165799 0.34321295]]\n",
            "2\n"
          ]
        }
      ]
    },
    {
      "cell_type": "code",
      "source": [
        "# Shape, size, and dimensions of arrays\n",
        "arr = np.array([[1, 2, 3], [3, 4, 5]])\n",
        "print(\"Shape:\", arr.shape)\n",
        "print(\"Size:\", arr.size)\n",
        "\n"
      ],
      "metadata": {
        "colab": {
          "base_uri": "https://localhost:8080/"
        },
        "id": "MOy5QgRwm49M",
        "outputId": "af85560d-0c48-4f31-8ce7-2fb4bd16743e"
      },
      "execution_count": 36,
      "outputs": [
        {
          "output_type": "stream",
          "name": "stdout",
          "text": [
            "Shape: (2, 3)\n",
            "Size: 6\n"
          ]
        }
      ]
    },
    {
      "cell_type": "code",
      "source": [
        "# Reshaping arrays\n",
        "arr = np.array([1, 2, 3, 4, 5, 6])\n",
        "arr_reshaped = arr.reshape((2, 3))\n",
        "print(arr_reshaped)\n"
      ],
      "metadata": {
        "colab": {
          "base_uri": "https://localhost:8080/"
        },
        "id": "pZDcLUcfm8GW",
        "outputId": "6381d712-269a-4999-bad9-791372c74769"
      },
      "execution_count": 37,
      "outputs": [
        {
          "output_type": "stream",
          "name": "stdout",
          "text": [
            "[[1 2 3]\n",
            " [4 5 6]]\n"
          ]
        }
      ]
    },
    {
      "cell_type": "code",
      "source": [
        "# Element-wise addition\n",
        "arr1 = np.array([1, 2, 3])\n",
        "arr2 = np.array([4, 5, 6])\n",
        "print(arr1 + arr2)\n",
        "\n"
      ],
      "metadata": {
        "colab": {
          "base_uri": "https://localhost:8080/"
        },
        "id": "lUZnpN_Fm_j7",
        "outputId": "2a24fe51-8b7a-4455-d873-1bd9b0917a9b"
      },
      "execution_count": 38,
      "outputs": [
        {
          "output_type": "stream",
          "name": "stdout",
          "text": [
            "[5 7 9]\n"
          ]
        }
      ]
    },
    {
      "cell_type": "code",
      "source": [
        "# Min, max, and sum operations\n",
        "arr = np.array([[1, 2, 3], [3, 4, 5]])\n",
        "print(\"Max:\", np.max(arr))\n",
        "print(\"Min:\", np.min(arr))\n",
        "print(\"Sum:\", np.sum(arr))\n",
        "\n"
      ],
      "metadata": {
        "colab": {
          "base_uri": "https://localhost:8080/"
        },
        "id": "oUgWU0NrnBBK",
        "outputId": "63b01f46-22e8-4e1d-8b78-a959554d96cf"
      },
      "execution_count": 39,
      "outputs": [
        {
          "output_type": "stream",
          "name": "stdout",
          "text": [
            "Max: 5\n",
            "Min: 1\n",
            "Sum: 18\n"
          ]
        }
      ]
    },
    {
      "cell_type": "code",
      "source": [
        "# Array indexing and slicing\n",
        "arr = np.array([[1, 2, 3], [3, 4, 5], [4, 5, 6]])\n",
        "print(\"Last element:\", arr[-1, -1])\n",
        "print(\"Sliced array:\", arr[:, 1:3])\n",
        "\n"
      ],
      "metadata": {
        "colab": {
          "base_uri": "https://localhost:8080/"
        },
        "id": "ZdKdtY_pnCD_",
        "outputId": "73cab8f7-b49c-418f-a472-d5a68daeffe2"
      },
      "execution_count": 40,
      "outputs": [
        {
          "output_type": "stream",
          "name": "stdout",
          "text": [
            "Last element: 6\n",
            "Sliced array: [[2 3]\n",
            " [4 5]\n",
            " [5 6]]\n"
          ]
        }
      ]
    },
    {
      "cell_type": "code",
      "source": [
        "# Conditional filtering\n",
        "arr1 = np.array([1, 2, 3])\n",
        "result = np.where(arr1 > 10)\n",
        "print(result)\n",
        "\n"
      ],
      "metadata": {
        "colab": {
          "base_uri": "https://localhost:8080/"
        },
        "id": "doKRIQTHnC_0",
        "outputId": "835b126b-a3d7-47ee-e986-a758df928993"
      },
      "execution_count": 41,
      "outputs": [
        {
          "output_type": "stream",
          "name": "stdout",
          "text": [
            "(array([], dtype=int64),)\n"
          ]
        }
      ]
    },
    {
      "cell_type": "code",
      "source": [
        "# Modifying array elements\n",
        "arr1 = np.array([1, 2, 3])\n",
        "np.put(arr1, [0, 1], [10, 20])\n",
        "print(arr1)"
      ],
      "metadata": {
        "id": "C7g5VKgWnD1q",
        "outputId": "0a228463-5931-4163-c27c-597d845aa586",
        "colab": {
          "base_uri": "https://localhost:8080/"
        }
      },
      "execution_count": 42,
      "outputs": [
        {
          "output_type": "stream",
          "name": "stdout",
          "text": [
            "[10 20  3]\n"
          ]
        }
      ]
    }
  ]
}